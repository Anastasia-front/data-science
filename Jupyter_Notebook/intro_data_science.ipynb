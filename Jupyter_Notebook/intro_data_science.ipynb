{
  "nbformat": 4,
  "nbformat_minor": 0,
  "metadata": {
    "colab": {
      "provenance": [],
      "authorship_tag": "ABX9TyNUQSWuczT+nCxR/44VYRfL",
      "include_colab_link": true
    },
    "kernelspec": {
      "name": "python3",
      "display_name": "Python 3"
    },
    "language_info": {
      "name": "python"
    }
  },
  "cells": [
    {
      "cell_type": "markdown",
      "metadata": {
        "id": "view-in-github",
        "colab_type": "text"
      },
      "source": [
        "<a href=\"https://colab.research.google.com/github/Anastasia-front/data-science/blob/main/intro_data_science.ipynb\" target=\"_parent\"><img src=\"https://colab.research.google.com/assets/colab-badge.svg\" alt=\"Open In Colab\"/></a>"
      ]
    },
    {
      "cell_type": "markdown",
      "source": [
        "# Vectors & Matrix"
      ],
      "metadata": {
        "id": "rjk_aQfqWQ69"
      }
    },
    {
      "cell_type": "code",
      "execution_count": 20,
      "metadata": {
        "colab": {
          "base_uri": "https://localhost:8080/"
        },
        "id": "lJH_WWsUQcic",
        "outputId": "db3c78f6-c7d8-4dfa-c037-b69f300195f5"
      },
      "outputs": [
        {
          "output_type": "stream",
          "name": "stdout",
          "text": [
            "First vector (first 10 natural numbers): [ 1  2  3  4  5  6  7  8  9 10]\n"
          ]
        }
      ],
      "source": [
        "import numpy as np\n",
        "\n",
        "vector = np.arange(1, 11)\n",
        "print(\"First vector (first 10 natural numbers):\", vector)"
      ]
    },
    {
      "cell_type": "code",
      "source": [
        "matrix_zeros = np.zeros((3, 3))\n",
        "print(\"\\nSecond vector (3x3 matrix with zeros):\")\n",
        "print(matrix_zeros)"
      ],
      "metadata": {
        "colab": {
          "base_uri": "https://localhost:8080/"
        },
        "id": "eUnaH8JlR-zB",
        "outputId": "a0247dcb-064f-4daa-99cf-035afb10bdc3"
      },
      "execution_count": 21,
      "outputs": [
        {
          "output_type": "stream",
          "name": "stdout",
          "text": [
            "\n",
            "Second vector (3x3 matrix with zeros):\n",
            "[[0. 0. 0.]\n",
            " [0. 0. 0.]\n",
            " [0. 0. 0.]]\n"
          ]
        }
      ]
    },
    {
      "cell_type": "code",
      "source": [
        "matrix_random_int = np.random.randint(1, 11, size=(5, 5))\n",
        "print(\"\\nThird vector (5x5 matrix with random integers):\")\n",
        "print(matrix_random_int)"
      ],
      "metadata": {
        "colab": {
          "base_uri": "https://localhost:8080/"
        },
        "id": "iRNdKAEtSI90",
        "outputId": "e4b22090-c281-4da6-89dc-ece40cb7cf7e"
      },
      "execution_count": 22,
      "outputs": [
        {
          "output_type": "stream",
          "name": "stdout",
          "text": [
            "\n",
            "Third vector (5x5 matrix with random integers):\n",
            "[[ 3  2 10  4  8]\n",
            " [ 9  8  1  2  9]\n",
            " [ 8  3  3  6  2]\n",
            " [ 8  7  7  4  2]\n",
            " [ 6  5  7  9  1]]\n"
          ]
        }
      ]
    },
    {
      "cell_type": "code",
      "source": [
        "matrix_random_float = np.random.rand(4, 4)\n",
        "print(\"\\nFourth vector (4x4 matrix with random floating-point numbers):\")\n",
        "print(matrix_random_float)"
      ],
      "metadata": {
        "colab": {
          "base_uri": "https://localhost:8080/"
        },
        "id": "-8AFBtjaSNWP",
        "outputId": "abe373fe-3b24-4f2d-a28f-910c3fd090c7"
      },
      "execution_count": 23,
      "outputs": [
        {
          "output_type": "stream",
          "name": "stdout",
          "text": [
            "\n",
            "Fourth vector (4x4 matrix with random floating-point numbers):\n",
            "[[0.48252355 0.95921108 0.67691046 0.59894115]\n",
            " [0.85144913 0.9723557  0.46968542 0.40305487]\n",
            " [0.09706429 0.14899314 0.63011531 0.98939372]\n",
            " [0.88906007 0.95563846 0.57212784 0.91690118]]\n"
          ]
        }
      ]
    },
    {
      "cell_type": "code",
      "source": [
        "array1 = np.random.randint(1, 11, size=5)\n",
        "array2 = np.random.randint(1, 11, size=5)\n",
        "addition = array1 + array2\n",
        "subtraction = array1 - array2\n",
        "multiplication = array1 * array2\n",
        "print(\"\\nAddition:\", addition)\n",
        "print(\"Subtraction:\", subtraction)\n",
        "print(\"Multiplication:\", multiplication)\n"
      ],
      "metadata": {
        "colab": {
          "base_uri": "https://localhost:8080/"
        },
        "id": "9LtMUxkvSfk8",
        "outputId": "3fe53f69-c63d-4cf1-81f3-59d91bbe69a6"
      },
      "execution_count": 24,
      "outputs": [
        {
          "output_type": "stream",
          "name": "stdout",
          "text": [
            "\n",
            "Addition: [ 9  8  6  7 11]\n",
            "Subtraction: [-1  4 -2 -1  5]\n",
            "Multiplication: [20 12  8 12 24]\n"
          ]
        }
      ]
    },
    {
      "cell_type": "code",
      "source": [
        "vector1 = np.random.rand(7)\n",
        "vector2 = np.random.rand(7)\n",
        "dot_product = np.dot(vector1, vector2)\n",
        "print(\"\\nDot product of two vectors:\", dot_product)"
      ],
      "metadata": {
        "colab": {
          "base_uri": "https://localhost:8080/"
        },
        "id": "U0fFNTlISmtJ",
        "outputId": "8701a53b-013d-411e-85df-ce20b902a55b"
      },
      "execution_count": 25,
      "outputs": [
        {
          "output_type": "stream",
          "name": "stdout",
          "text": [
            "\n",
            "Dot product of two vectors: 1.8677478997470813\n"
          ]
        }
      ]
    },
    {
      "cell_type": "code",
      "source": [
        "matrix1 = np.random.randint(1, 11, size=(2, 2))\n",
        "matrix2 = np.random.randint(1, 11, size=(2, 3))\n",
        "matrix_product = np.dot(matrix1, matrix2)\n",
        "print(\"\\nMatrix product:\")\n",
        "print(matrix_product)"
      ],
      "metadata": {
        "colab": {
          "base_uri": "https://localhost:8080/"
        },
        "id": "jaC0-Bj1S2pW",
        "outputId": "7dfd6ee7-2e67-4f23-9ce5-4d3279c20050"
      },
      "execution_count": 26,
      "outputs": [
        {
          "output_type": "stream",
          "name": "stdout",
          "text": [
            "\n",
            "Matrix product:\n",
            "[[ 42  84 120]\n",
            " [ 51  91 130]]\n"
          ]
        }
      ]
    },
    {
      "cell_type": "code",
      "source": [
        "matrix_3x3 = np.random.randint(1, 11, size=(3, 3))\n",
        "try:\n",
        "    inverse_matrix = np.linalg.inv(matrix_3x3)\n",
        "    print(\"\\nInverse matrix:\")\n",
        "    print(inverse_matrix)\n",
        "except np.linalg.LinAlgError:\n",
        "    print(\"\\nInverse matrix does not exist.\")"
      ],
      "metadata": {
        "colab": {
          "base_uri": "https://localhost:8080/"
        },
        "id": "S5suGoUVS-Ag",
        "outputId": "8d36c824-b8bc-4b3c-9f85-64671355cf7f"
      },
      "execution_count": 27,
      "outputs": [
        {
          "output_type": "stream",
          "name": "stdout",
          "text": [
            "\n",
            "Inverse matrix:\n",
            "[[ 0.09090909  0.1        -0.21818182]\n",
            " [-0.18181818  0.5        -0.36363636]\n",
            " [ 0.09090909 -0.3         0.38181818]]\n"
          ]
        }
      ]
    },
    {
      "cell_type": "code",
      "source": [
        "matrix_4x4 = np.random.rand(4, 4)\n",
        "transposed_matrix = np.transpose(matrix_4x4)\n",
        "print(\"\\nTransposed matrix:\")\n",
        "print(transposed_matrix)"
      ],
      "metadata": {
        "colab": {
          "base_uri": "https://localhost:8080/"
        },
        "id": "kI60InZvTCUw",
        "outputId": "dfac3851-9fab-48b7-dfab-192d1914d003"
      },
      "execution_count": 28,
      "outputs": [
        {
          "output_type": "stream",
          "name": "stdout",
          "text": [
            "\n",
            "Transposed matrix:\n",
            "[[0.91128383 0.94800557 0.86944934 0.2881611 ]\n",
            " [0.27110867 0.69537835 0.1262569  0.31695899]\n",
            " [0.42466523 0.06411742 0.79978562 0.87269479]\n",
            " [0.10568087 0.58209778 0.90715054 0.03777   ]]\n"
          ]
        }
      ]
    },
    {
      "cell_type": "code",
      "source": [
        "matrix_3x4 = np.random.randint(1, 11, size=(3, 4))\n",
        "vector_4 = np.random.randint(1, 11, size=4)\n",
        "matrix_vector_product = np.dot(matrix_3x4, vector_4)\n",
        "print(\"\\nMatrix-vector product:\")\n",
        "print(matrix_vector_product)"
      ],
      "metadata": {
        "colab": {
          "base_uri": "https://localhost:8080/"
        },
        "id": "q2xsch0FTFt9",
        "outputId": "71396483-3e2b-4ad3-a509-51f7e3eb29e7"
      },
      "execution_count": 29,
      "outputs": [
        {
          "output_type": "stream",
          "name": "stdout",
          "text": [
            "\n",
            "Matrix-vector product:\n",
            "[66 75 69]\n"
          ]
        }
      ]
    },
    {
      "cell_type": "code",
      "source": [
        "matrix_2x3 = np.random.rand(2, 3)\n",
        "vector_3 = np.random.rand(3)\n",
        "matrix_vector_product_2 = np.dot(matrix_2x3, vector_3)\n",
        "print(\"\\nMatrix-vector product:\")\n",
        "print(matrix_vector_product_2)"
      ],
      "metadata": {
        "colab": {
          "base_uri": "https://localhost:8080/"
        },
        "id": "LFXiDjobTMgV",
        "outputId": "5a8e6a2c-ebb9-4682-a280-0520143d80f3"
      },
      "execution_count": 30,
      "outputs": [
        {
          "output_type": "stream",
          "name": "stdout",
          "text": [
            "\n",
            "Matrix-vector product:\n",
            "[0.77314371 1.09005879]\n"
          ]
        }
      ]
    },
    {
      "cell_type": "code",
      "source": [
        "matrix1 = np.random.randint(1, 11, size=(2, 2))\n",
        "matrix2 = np.random.randint(1, 11, size=(2, 2))\n",
        "elementwise_multiplication = np.multiply(matrix1, matrix2)\n",
        "print(\"\\nElement-wise multiplication:\")\n",
        "print(elementwise_multiplication)"
      ],
      "metadata": {
        "colab": {
          "base_uri": "https://localhost:8080/"
        },
        "id": "zcY_fai1TVtr",
        "outputId": "e6f06267-eced-41d0-b081-b341a185e3c6"
      },
      "execution_count": 31,
      "outputs": [
        {
          "output_type": "stream",
          "name": "stdout",
          "text": [
            "\n",
            "Element-wise multiplication:\n",
            "[[90 70]\n",
            " [15 42]]\n"
          ]
        }
      ]
    },
    {
      "cell_type": "code",
      "source": [
        "matrix1 = np.random.randint(1, 11, size=(2, 2))\n",
        "matrix2 = np.random.randint(1, 11, size=(2, 2))\n",
        "matrix_product = np.dot(matrix1, matrix2)\n",
        "print(\"\\nMatrix product:\")\n",
        "print(matrix_product)"
      ],
      "metadata": {
        "colab": {
          "base_uri": "https://localhost:8080/"
        },
        "id": "FVAUuSR5TZJf",
        "outputId": "0b542905-5579-44b3-97f1-9718d0e1cb4c"
      },
      "execution_count": 32,
      "outputs": [
        {
          "output_type": "stream",
          "name": "stdout",
          "text": [
            "\n",
            "Matrix product:\n",
            "[[49 80]\n",
            " [57 76]]\n"
          ]
        }
      ]
    },
    {
      "cell_type": "code",
      "source": [
        "matrix_5x5 = np.random.randint(1, 101, size=(5, 5))\n",
        "matrix_sum = np.sum(matrix_5x5)\n",
        "print(\"\\nSum of matrix elements:\", matrix_sum)"
      ],
      "metadata": {
        "colab": {
          "base_uri": "https://localhost:8080/"
        },
        "id": "LRVtFy7QTeUc",
        "outputId": "7a61ded7-42a3-4dd8-abdc-dbc400a92331"
      },
      "execution_count": 33,
      "outputs": [
        {
          "output_type": "stream",
          "name": "stdout",
          "text": [
            "\n",
            "Sum of matrix elements: 1161\n"
          ]
        }
      ]
    },
    {
      "cell_type": "code",
      "source": [
        "matrix1 = np.random.randint(1, 11, size=(4, 4))\n",
        "matrix2 = np.random.randint(1, 11, size=(4, 4))\n",
        "matrix_difference = matrix1 - matrix2\n",
        "print(\"\\nMatrix difference:\")\n",
        "print(matrix_difference)"
      ],
      "metadata": {
        "colab": {
          "base_uri": "https://localhost:8080/"
        },
        "id": "_zv4euqOTg8L",
        "outputId": "6619a922-baac-4bd1-abe6-a2df5f738e0c"
      },
      "execution_count": 34,
      "outputs": [
        {
          "output_type": "stream",
          "name": "stdout",
          "text": [
            "\n",
            "Matrix difference:\n",
            "[[ 3  5 -3 -2]\n",
            " [-5 -3  4  3]\n",
            " [-7  4 -2  5]\n",
            " [-2  4  1  4]]\n"
          ]
        }
      ]
    },
    {
      "cell_type": "code",
      "source": [
        "matrix_3x3 = np.random.rand(3, 3)\n",
        "row_sum_vector = np.sum(matrix_3x3, axis=1)\n",
        "print(\"\\nRow sum vector:\")\n",
        "print(row_sum_vector)"
      ],
      "metadata": {
        "colab": {
          "base_uri": "https://localhost:8080/"
        },
        "id": "0oPrNU49TpgU",
        "outputId": "0aef445b-f925-453b-e450-3cad163950d6"
      },
      "execution_count": 35,
      "outputs": [
        {
          "output_type": "stream",
          "name": "stdout",
          "text": [
            "\n",
            "Row sum vector:\n",
            "[2.28633803 2.11907358 0.46603608]\n"
          ]
        }
      ]
    },
    {
      "cell_type": "code",
      "source": [
        "matrix_3x4 = np.random.randint(1, 11, size=(3, 4))\n",
        "squared_matrix = np.square(matrix_3x4)\n",
        "print(\"\\nMatrix with squares of elements:\")\n",
        "print(squared_matrix)"
      ],
      "metadata": {
        "colab": {
          "base_uri": "https://localhost:8080/"
        },
        "id": "dN-ZidPvTsgi",
        "outputId": "9644332c-4847-4676-a5c4-04458f21e02f"
      },
      "execution_count": 36,
      "outputs": [
        {
          "output_type": "stream",
          "name": "stdout",
          "text": [
            "\n",
            "Matrix with squares of elements:\n",
            "[[  9  81  49 100]\n",
            " [ 16   1   9   4]\n",
            " [  4  25 100  81]]\n"
          ]
        }
      ]
    },
    {
      "cell_type": "code",
      "source": [
        "vector = np.random.randint(1, 51, size=4)\n",
        "square_root_vector = np.sqrt(vector)\n",
        "print(\"\\nVector with square roots of elements:\")\n",
        "print(square_root_vector)"
      ],
      "metadata": {
        "colab": {
          "base_uri": "https://localhost:8080/"
        },
        "id": "-lZxKm4DTvtv",
        "outputId": "ca38e319-19a5-46e6-815f-8289e0a32544"
      },
      "execution_count": 37,
      "outputs": [
        {
          "output_type": "stream",
          "name": "stdout",
          "text": [
            "\n",
            "Vector with square roots of elements:\n",
            "[7.         5.56776436 5.47722558 6.63324958]\n"
          ]
        }
      ]
    },
    {
      "cell_type": "markdown",
      "source": [
        "# Additional tasks"
      ],
      "metadata": {
        "id": "5ZntAi88WdmH"
      }
    },
    {
      "cell_type": "code",
      "source": [
        "import numpy as np\n",
        "\n",
        "arr = np.array([0, 1, 2, 3, 4, 5, 6, 7, 8, 9])\n",
        "arr[arr % 2 != 0] = -1\n",
        "print(\"Task 1: Replace odd numbers with -1 in the array:\", arr)"
      ],
      "metadata": {
        "colab": {
          "base_uri": "https://localhost:8080/"
        },
        "id": "Qvecm-PXW__L",
        "outputId": "9f2e2c56-bfb8-4d4a-ef99-183eb7841ea5"
      },
      "execution_count": 38,
      "outputs": [
        {
          "output_type": "stream",
          "name": "stdout",
          "text": [
            "Task 1: Replace odd numbers with -1 in the array: [ 0 -1  2 -1  4 -1  6 -1  8 -1]\n"
          ]
        }
      ]
    },
    {
      "cell_type": "code",
      "source": [
        "arr_1d = np.array([1, 2, 3, 4, 5, 6])\n",
        "arr_2d = arr_1d.reshape(2, -1)\n",
        "print(\"\\nTask 2: Create and reshape a 1D array into a 2D array with 2 rows:\\n\", arr_2d)"
      ],
      "metadata": {
        "colab": {
          "base_uri": "https://localhost:8080/"
        },
        "id": "s5DrJlrFXsnC",
        "outputId": "5984cad2-bcf5-47c7-ba1c-fb7d0482c03f"
      },
      "execution_count": 39,
      "outputs": [
        {
          "output_type": "stream",
          "name": "stdout",
          "text": [
            "\n",
            "Task 2: Create and reshape a 1D array into a 2D array with 2 rows:\n",
            " [[1 2 3]\n",
            " [4 5 6]]\n"
          ]
        }
      ]
    },
    {
      "cell_type": "code",
      "source": [
        "a = np.array([[1, 2], [3, 4]])\n",
        "b = np.array([[5, 6]])\n",
        "combined = np.concatenate((a, b), axis=0)\n",
        "print(\"\\nTask 3: Stack two 2D arrays vertically:\\n\", combined)"
      ],
      "metadata": {
        "colab": {
          "base_uri": "https://localhost:8080/"
        },
        "id": "XbrjWHTiX0W1",
        "outputId": "f2f17d54-9208-43ff-ca1a-641e027e7eca"
      },
      "execution_count": 40,
      "outputs": [
        {
          "output_type": "stream",
          "name": "stdout",
          "text": [
            "\n",
            "Task 3: Stack two 2D arrays vertically:\n",
            " [[1 2]\n",
            " [3 4]\n",
            " [5 6]]\n"
          ]
        }
      ]
    },
    {
      "cell_type": "code",
      "source": [
        "a = np.array([1, 2, 3])\n",
        "output = np.repeat(a, 3)\n",
        "print(\"\\nTask 4: Repeat each element of the input array 3 times:\\n\", output)"
      ],
      "metadata": {
        "colab": {
          "base_uri": "https://localhost:8080/"
        },
        "id": "URxLDH7OX3s_",
        "outputId": "e4fcabd1-2a1d-440d-ac06-5610f3f5f061"
      },
      "execution_count": 41,
      "outputs": [
        {
          "output_type": "stream",
          "name": "stdout",
          "text": [
            "\n",
            "Task 4: Repeat each element of the input array 3 times:\n",
            " [1 1 1 2 2 2 3 3 3]\n"
          ]
        }
      ]
    },
    {
      "cell_type": "code",
      "source": [
        "a = np.array([1, 2, 3, 2, 3, 4, 3, 4, 5, 6])\n",
        "b = np.array([7, 2, 10, 2, 7, 4, 9, 4, 9, 8])\n",
        "common_elements = np.intersect1d(a, b)\n",
        "print(\"\\nTask 5: Find common elements between two arrays:\\n\", common_elements)"
      ],
      "metadata": {
        "colab": {
          "base_uri": "https://localhost:8080/"
        },
        "id": "kDs5B3cnX6s2",
        "outputId": "0a5793b3-38c5-402d-f2a8-7f4a742272d6"
      },
      "execution_count": 42,
      "outputs": [
        {
          "output_type": "stream",
          "name": "stdout",
          "text": [
            "\n",
            "Task 5: Find common elements between two arrays:\n",
            " [2 4]\n"
          ]
        }
      ]
    },
    {
      "cell_type": "code",
      "source": [
        "np.random.seed(100)\n",
        "a = np.random.uniform(1, 50, 20)\n",
        "indices_max5 = np.argsort(a)[-5:]\n",
        "print(\"\\nTask 6: Find indices of the first 5 maximum values in the array:\\n\", indices_max5)"
      ],
      "metadata": {
        "colab": {
          "base_uri": "https://localhost:8080/"
        },
        "id": "oFrV8XNTX_8g",
        "outputId": "d632f7ca-43f7-4288-d96c-dd85480aabbe"
      },
      "execution_count": 43,
      "outputs": [
        {
          "output_type": "stream",
          "name": "stdout",
          "text": [
            "\n",
            "Task 6: Find indices of the first 5 maximum values in the array:\n",
            " [18  7  3 10 15]\n"
          ]
        }
      ]
    },
    {
      "cell_type": "code",
      "source": [
        "a = np.array([1, 2, 3, np.nan, 5, 6, 7, np.nan])\n",
        "a = a[~np.isnan(a)]\n",
        "print(\"\\nTask 7: Remove NaN values from a 1D array:\\n\", a)"
      ],
      "metadata": {
        "colab": {
          "base_uri": "https://localhost:8080/"
        },
        "id": "BOEmwX1lYCwc",
        "outputId": "0b9c6661-4f48-4e00-ecc4-efa524cd8c8a"
      },
      "execution_count": 44,
      "outputs": [
        {
          "output_type": "stream",
          "name": "stdout",
          "text": [
            "\n",
            "Task 7: Remove NaN values from a 1D array:\n",
            " [1. 2. 3. 5. 6. 7.]\n"
          ]
        }
      ]
    },
    {
      "cell_type": "code",
      "source": [
        "a = np.array([1, 2, 3, 4, 5])\n",
        "b = np.array([4, 5, 6, 7, 8])\n",
        "distance = np.linalg.norm(a - b)\n",
        "print(\"\\nTask 8: Calculate the Euclidean distance between two arrays:\\n\", distance)"
      ],
      "metadata": {
        "colab": {
          "base_uri": "https://localhost:8080/"
        },
        "id": "-qHTyPGqYFQ4",
        "outputId": "c68e179b-eb07-427e-f94a-3617f33a1fe6"
      },
      "execution_count": 45,
      "outputs": [
        {
          "output_type": "stream",
          "name": "stdout",
          "text": [
            "\n",
            "Task 8: Calculate the Euclidean distance between two arrays:\n",
            " 6.708203932499369\n"
          ]
        }
      ]
    },
    {
      "cell_type": "code",
      "source": [
        "x = np.array([1, 2, 1, 1, 3, 4, 3, 1, 1, 2, 1, 1, 2])\n",
        "index_5th_occurrence = np.where(x == 1)[0][4]\n",
        "print(\"\\nTask 9: Find the index of the 5th occurrence of the number 1 in the array:\\n\", index_5th_occurrence)"
      ],
      "metadata": {
        "colab": {
          "base_uri": "https://localhost:8080/"
        },
        "id": "NWSXjGcOYHk5",
        "outputId": "5f753828-5a22-454b-bdc5-d9a9fa47a7a8"
      },
      "execution_count": 46,
      "outputs": [
        {
          "output_type": "stream",
          "name": "stdout",
          "text": [
            "\n",
            "Task 9: Find the index of the 5th occurrence of the number 1 in the array:\n",
            " 8\n"
          ]
        }
      ]
    },
    {
      "cell_type": "code",
      "source": [
        "np.random.seed(100)\n",
        "a = np.random.randint(0, 5, 10)\n",
        "result = np.full_like(a, False)\n",
        "unique_values, counts = np.unique(a, return_counts=True)\n",
        "duplicates = unique_values[counts > 1]\n",
        "for val in duplicates:\n",
        "    result[np.where(a == val)[0][1:]] = True\n",
        "print(\"\\nTask 10: Mark repeated occurrences (from the 2nd occurrence onward) in the array as True:\\n\", result)"
      ],
      "metadata": {
        "colab": {
          "base_uri": "https://localhost:8080/"
        },
        "id": "Er5u11ySYMZ7",
        "outputId": "111ea326-54c8-4bae-8d85-93d0743d6d40"
      },
      "execution_count": 47,
      "outputs": [
        {
          "output_type": "stream",
          "name": "stdout",
          "text": [
            "\n",
            "Task 10: Mark repeated occurrences (from the 2nd occurrence onward) in the array as True:\n",
            " [0 1 0 1 0 0 1 1 1 1]\n"
          ]
        }
      ]
    }
  ]
}