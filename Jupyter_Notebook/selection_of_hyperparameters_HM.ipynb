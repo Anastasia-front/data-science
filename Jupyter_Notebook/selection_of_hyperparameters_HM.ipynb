{
  "nbformat": 4,
  "nbformat_minor": 0,
  "metadata": {
    "colab": {
      "provenance": []
    },
    "kernelspec": {
      "name": "python3",
      "display_name": "Python 3"
    },
    "language_info": {
      "name": "python"
    }
  },
  "cells": [
    {
      "cell_type": "markdown",
      "source": [
        "VARIANT 1"
      ],
      "metadata": {
        "id": "c5IQzNrZO-_-"
      }
    },
    {
      "cell_type": "code",
      "execution_count": 1,
      "metadata": {
        "id": "cmIw5QT-BzqK"
      },
      "outputs": [],
      "source": [
        "import numpy as np\n",
        "from tensorflow.keras.datasets import fashion_mnist\n",
        "from tensorflow.keras.utils import to_categorical\n",
        "from tensorflow.keras.models import Sequential\n",
        "from tensorflow.keras.layers import Conv2D, MaxPooling2D, Dense, Flatten, Dropout, BatchNormalization\n",
        "from tensorflow.keras.optimizers import Adam\n",
        "from tensorflow.keras.callbacks import EarlyStopping\n",
        "from tensorflow.keras.regularizers import l2"
      ]
    },
    {
      "cell_type": "code",
      "source": [
        "(X_train, y_train), (X_test, y_test) = fashion_mnist.load_data()\n",
        "\n",
        "\n",
        "X_train = X_train / 255.0\n",
        "X_test = X_test / 255.0\n",
        "\n",
        "\n",
        "y_train = to_categorical(y_train, 10)\n",
        "y_test = to_categorical(y_test, 10)"
      ],
      "metadata": {
        "colab": {
          "base_uri": "https://localhost:8080/"
        },
        "id": "EwZlKsUpCFh6",
        "outputId": "40564765-8eee-4583-a738-5ef5295c73e5"
      },
      "execution_count": 2,
      "outputs": [
        {
          "output_type": "stream",
          "name": "stdout",
          "text": [
            "Downloading data from https://storage.googleapis.com/tensorflow/tf-keras-datasets/train-labels-idx1-ubyte.gz\n",
            "29515/29515 [==============================] - 0s 0us/step\n",
            "Downloading data from https://storage.googleapis.com/tensorflow/tf-keras-datasets/train-images-idx3-ubyte.gz\n",
            "26421880/26421880 [==============================] - 0s 0us/step\n",
            "Downloading data from https://storage.googleapis.com/tensorflow/tf-keras-datasets/t10k-labels-idx1-ubyte.gz\n",
            "5148/5148 [==============================] - 0s 0us/step\n",
            "Downloading data from https://storage.googleapis.com/tensorflow/tf-keras-datasets/t10k-images-idx3-ubyte.gz\n",
            "4422102/4422102 [==============================] - 0s 0us/step\n"
          ]
        }
      ]
    },
    {
      "cell_type": "code",
      "source": [
        "model = Sequential()\n",
        "\n",
        "\n",
        "model.add(Flatten(input_shape=(28, 28)))\n",
        "model.add(Dense(256, activation='relu'))\n",
        "model.add(Dropout(0.3))\n",
        "model.add(Dense(128, activation='relu'))\n",
        "model.add(Dropout(0.3))\n",
        "model.add(Dense(10, activation='softmax'))"
      ],
      "metadata": {
        "id": "DgmNAeEbCPwp"
      },
      "execution_count": 4,
      "outputs": []
    },
    {
      "cell_type": "code",
      "source": [],
      "metadata": {
        "id": "RqDB_G1UIsDi"
      },
      "execution_count": null,
      "outputs": []
    },
    {
      "cell_type": "code",
      "source": [
        "model.compile(optimizer=Adam(),\n",
        "              loss='categorical_crossentropy',\n",
        "              metrics=['accuracy'])"
      ],
      "metadata": {
        "id": "KcHc5ngACSnK"
      },
      "execution_count": 6,
      "outputs": []
    },
    {
      "cell_type": "code",
      "source": [
        "early_stopping = EarlyStopping(monitor='val_loss', patience=3, restore_best_weights=True)\n",
        "\n",
        "history = model.fit(X_train, y_train,\n",
        "                    epochs=30,\n",
        "                    batch_size=128,\n",
        "                    validation_split=0.2,\n",
        "                    callbacks=[early_stopping])"
      ],
      "metadata": {
        "colab": {
          "base_uri": "https://localhost:8080/"
        },
        "id": "mJKtWOyKCW45",
        "outputId": "3bd13fda-2f33-4682-8bb4-02be26e1821d"
      },
      "execution_count": 7,
      "outputs": [
        {
          "output_type": "stream",
          "name": "stdout",
          "text": [
            "Epoch 1/30\n",
            "375/375 [==============================] - 6s 13ms/step - loss: 0.6572 - accuracy: 0.7641 - val_loss: 0.4382 - val_accuracy: 0.8382\n",
            "Epoch 2/30\n",
            "375/375 [==============================] - 4s 10ms/step - loss: 0.4481 - accuracy: 0.8380 - val_loss: 0.3981 - val_accuracy: 0.8560\n",
            "Epoch 3/30\n",
            "375/375 [==============================] - 3s 9ms/step - loss: 0.4052 - accuracy: 0.8537 - val_loss: 0.3826 - val_accuracy: 0.8556\n",
            "Epoch 4/30\n",
            "375/375 [==============================] - 5s 14ms/step - loss: 0.3804 - accuracy: 0.8619 - val_loss: 0.3709 - val_accuracy: 0.8625\n",
            "Epoch 5/30\n",
            "375/375 [==============================] - 4s 10ms/step - loss: 0.3622 - accuracy: 0.8680 - val_loss: 0.3469 - val_accuracy: 0.8727\n",
            "Epoch 6/30\n",
            "375/375 [==============================] - 4s 10ms/step - loss: 0.3482 - accuracy: 0.8710 - val_loss: 0.3337 - val_accuracy: 0.8787\n",
            "Epoch 7/30\n",
            "375/375 [==============================] - 6s 15ms/step - loss: 0.3336 - accuracy: 0.8776 - val_loss: 0.3497 - val_accuracy: 0.8727\n",
            "Epoch 8/30\n",
            "375/375 [==============================] - 3s 9ms/step - loss: 0.3245 - accuracy: 0.8807 - val_loss: 0.3282 - val_accuracy: 0.8829\n",
            "Epoch 9/30\n",
            "375/375 [==============================] - 4s 9ms/step - loss: 0.3185 - accuracy: 0.8822 - val_loss: 0.3387 - val_accuracy: 0.8783\n",
            "Epoch 10/30\n",
            "375/375 [==============================] - 4s 10ms/step - loss: 0.3089 - accuracy: 0.8846 - val_loss: 0.3204 - val_accuracy: 0.8846\n",
            "Epoch 11/30\n",
            "375/375 [==============================] - 4s 12ms/step - loss: 0.3027 - accuracy: 0.8883 - val_loss: 0.3126 - val_accuracy: 0.8891\n",
            "Epoch 12/30\n",
            "375/375 [==============================] - 4s 10ms/step - loss: 0.2940 - accuracy: 0.8917 - val_loss: 0.3122 - val_accuracy: 0.8865\n",
            "Epoch 13/30\n",
            "375/375 [==============================] - 3s 9ms/step - loss: 0.2883 - accuracy: 0.8935 - val_loss: 0.3140 - val_accuracy: 0.8886\n",
            "Epoch 14/30\n",
            "375/375 [==============================] - 5s 14ms/step - loss: 0.2850 - accuracy: 0.8932 - val_loss: 0.3075 - val_accuracy: 0.8887\n",
            "Epoch 15/30\n",
            "375/375 [==============================] - 4s 9ms/step - loss: 0.2826 - accuracy: 0.8926 - val_loss: 0.3122 - val_accuracy: 0.8882\n",
            "Epoch 16/30\n",
            "375/375 [==============================] - 4s 11ms/step - loss: 0.2773 - accuracy: 0.8961 - val_loss: 0.3121 - val_accuracy: 0.8904\n",
            "Epoch 17/30\n",
            "375/375 [==============================] - 5s 13ms/step - loss: 0.2733 - accuracy: 0.8976 - val_loss: 0.3091 - val_accuracy: 0.8879\n"
          ]
        }
      ]
    },
    {
      "cell_type": "code",
      "source": [
        "test_loss, test_accuracy = model.evaluate(X_test, y_test)\n",
        "print(f'Test accuracy: {test_accuracy:.4f}')"
      ],
      "metadata": {
        "colab": {
          "base_uri": "https://localhost:8080/"
        },
        "id": "ncp36LXVIts-",
        "outputId": "d3ef2d04-c64a-4969-e907-dc18f12aa41d"
      },
      "execution_count": 8,
      "outputs": [
        {
          "output_type": "stream",
          "name": "stdout",
          "text": [
            "313/313 [==============================] - 1s 3ms/step - loss: 0.3347 - accuracy: 0.8816\n",
            "Test accuracy: 0.8816\n"
          ]
        }
      ]
    },
    {
      "cell_type": "markdown",
      "source": [
        "VARIANT 2"
      ],
      "metadata": {
        "id": "c4wjYWzDI1Ql"
      }
    },
    {
      "cell_type": "code",
      "source": [
        "model = Sequential()\n",
        "\n",
        "model.add(Flatten(input_shape=(28, 28)))\n",
        "model.add(Dense(512, activation='relu', kernel_regularizer=l2(0.001)))\n",
        "model.add(BatchNormalization())\n",
        "model.add(Dropout(0.4))\n",
        "model.add(Dense(256, activation='relu', kernel_regularizer=l2(0.001)))\n",
        "model.add(BatchNormalization())\n",
        "model.add(Dropout(0.4))\n",
        "model.add(Dense(128, activation='relu', kernel_regularizer=l2(0.001)))\n",
        "model.add(BatchNormalization())\n",
        "model.add(Dropout(0.4))\n",
        "model.add(Dense(10, activation='softmax'))"
      ],
      "metadata": {
        "id": "immBxF53I79v"
      },
      "execution_count": 9,
      "outputs": []
    },
    {
      "cell_type": "code",
      "source": [
        "model.compile(optimizer=Adam(learning_rate=0.001),\n",
        "              loss='categorical_crossentropy',\n",
        "              metrics=['accuracy'])"
      ],
      "metadata": {
        "id": "Pb77_qdkI-j4"
      },
      "execution_count": 11,
      "outputs": []
    },
    {
      "cell_type": "code",
      "source": [
        "early_stopping = EarlyStopping(monitor='val_loss', patience=10, restore_best_weights=True)\n",
        "\n",
        "history = model.fit(X_train, y_train,\n",
        "                    epochs=80,\n",
        "                    batch_size=128,\n",
        "                    validation_split=0.2,\n",
        "                    callbacks=[early_stopping])"
      ],
      "metadata": {
        "colab": {
          "base_uri": "https://localhost:8080/"
        },
        "id": "27-0y_lkJALT",
        "outputId": "fab35c01-fe4e-475a-a5ce-81e4c5882d71"
      },
      "execution_count": 12,
      "outputs": [
        {
          "output_type": "stream",
          "name": "stdout",
          "text": [
            "Epoch 1/80\n",
            "375/375 [==============================] - 16s 35ms/step - loss: 1.6013 - accuracy: 0.7655 - val_loss: 1.2287 - val_accuracy: 0.8288\n",
            "Epoch 2/80\n",
            "375/375 [==============================] - 9s 24ms/step - loss: 1.1015 - accuracy: 0.8246 - val_loss: 1.0233 - val_accuracy: 0.7992\n",
            "Epoch 3/80\n",
            "375/375 [==============================] - 9s 23ms/step - loss: 0.8688 - accuracy: 0.8332 - val_loss: 0.7661 - val_accuracy: 0.8408\n",
            "Epoch 4/80\n",
            "375/375 [==============================] - 10s 26ms/step - loss: 0.7397 - accuracy: 0.8369 - val_loss: 0.6656 - val_accuracy: 0.8412\n",
            "Epoch 5/80\n",
            "375/375 [==============================] - 9s 23ms/step - loss: 0.6711 - accuracy: 0.8364 - val_loss: 0.6023 - val_accuracy: 0.8534\n",
            "Epoch 6/80\n",
            "375/375 [==============================] - 9s 24ms/step - loss: 0.6297 - accuracy: 0.8360 - val_loss: 0.6231 - val_accuracy: 0.8361\n",
            "Epoch 7/80\n",
            "375/375 [==============================] - 10s 25ms/step - loss: 0.6123 - accuracy: 0.8353 - val_loss: 0.5770 - val_accuracy: 0.8456\n",
            "Epoch 8/80\n",
            "375/375 [==============================] - 8s 21ms/step - loss: 0.5975 - accuracy: 0.8371 - val_loss: 0.5806 - val_accuracy: 0.8312\n",
            "Epoch 9/80\n",
            "375/375 [==============================] - 10s 25ms/step - loss: 0.5795 - accuracy: 0.8417 - val_loss: 0.5849 - val_accuracy: 0.8279\n",
            "Epoch 10/80\n",
            "375/375 [==============================] - 9s 25ms/step - loss: 0.5763 - accuracy: 0.8406 - val_loss: 0.5818 - val_accuracy: 0.8329\n",
            "Epoch 11/80\n",
            "375/375 [==============================] - 8s 22ms/step - loss: 0.5763 - accuracy: 0.8413 - val_loss: 0.5414 - val_accuracy: 0.8491\n",
            "Epoch 12/80\n",
            "375/375 [==============================] - 9s 25ms/step - loss: 0.5815 - accuracy: 0.8391 - val_loss: 0.5493 - val_accuracy: 0.8492\n",
            "Epoch 13/80\n",
            "375/375 [==============================] - 11s 28ms/step - loss: 0.5619 - accuracy: 0.8461 - val_loss: 0.5595 - val_accuracy: 0.8445\n",
            "Epoch 14/80\n",
            "375/375 [==============================] - 8s 22ms/step - loss: 0.5734 - accuracy: 0.8417 - val_loss: 0.6012 - val_accuracy: 0.8261\n",
            "Epoch 15/80\n",
            "375/375 [==============================] - 9s 24ms/step - loss: 0.5673 - accuracy: 0.8419 - val_loss: 0.5932 - val_accuracy: 0.8333\n",
            "Epoch 16/80\n",
            "375/375 [==============================] - 9s 25ms/step - loss: 0.5661 - accuracy: 0.8417 - val_loss: 0.5680 - val_accuracy: 0.8348\n",
            "Epoch 17/80\n",
            "375/375 [==============================] - 8s 22ms/step - loss: 0.5569 - accuracy: 0.8467 - val_loss: 0.5958 - val_accuracy: 0.8273\n",
            "Epoch 18/80\n",
            "375/375 [==============================] - 10s 27ms/step - loss: 0.5619 - accuracy: 0.8461 - val_loss: 0.5516 - val_accuracy: 0.8432\n",
            "Epoch 19/80\n",
            "375/375 [==============================] - 10s 26ms/step - loss: 0.5590 - accuracy: 0.8451 - val_loss: 0.5270 - val_accuracy: 0.8569\n",
            "Epoch 20/80\n",
            "375/375 [==============================] - 8s 21ms/step - loss: 0.5571 - accuracy: 0.8451 - val_loss: 0.6599 - val_accuracy: 0.8015\n",
            "Epoch 21/80\n",
            "375/375 [==============================] - 10s 26ms/step - loss: 0.5629 - accuracy: 0.8421 - val_loss: 0.5614 - val_accuracy: 0.8389\n",
            "Epoch 22/80\n",
            "375/375 [==============================] - 8s 22ms/step - loss: 0.5552 - accuracy: 0.8450 - val_loss: 0.5508 - val_accuracy: 0.8475\n",
            "Epoch 23/80\n",
            "375/375 [==============================] - 9s 25ms/step - loss: 0.5525 - accuracy: 0.8455 - val_loss: 0.5433 - val_accuracy: 0.8471\n",
            "Epoch 24/80\n",
            "375/375 [==============================] - 10s 26ms/step - loss: 0.5528 - accuracy: 0.8468 - val_loss: 0.5314 - val_accuracy: 0.8535\n",
            "Epoch 25/80\n",
            "375/375 [==============================] - 8s 22ms/step - loss: 0.5549 - accuracy: 0.8451 - val_loss: 0.5554 - val_accuracy: 0.8392\n",
            "Epoch 26/80\n",
            "375/375 [==============================] - 9s 24ms/step - loss: 0.5457 - accuracy: 0.8491 - val_loss: 0.5031 - val_accuracy: 0.8587\n",
            "Epoch 27/80\n",
            "375/375 [==============================] - 10s 27ms/step - loss: 0.5510 - accuracy: 0.8456 - val_loss: 0.5410 - val_accuracy: 0.8560\n",
            "Epoch 28/80\n",
            "375/375 [==============================] - 10s 27ms/step - loss: 0.5408 - accuracy: 0.8496 - val_loss: 0.5313 - val_accuracy: 0.8519\n",
            "Epoch 29/80\n",
            "375/375 [==============================] - 10s 26ms/step - loss: 0.5429 - accuracy: 0.8500 - val_loss: 0.5572 - val_accuracy: 0.8407\n",
            "Epoch 30/80\n",
            "375/375 [==============================] - 10s 26ms/step - loss: 0.5441 - accuracy: 0.8485 - val_loss: 0.5354 - val_accuracy: 0.8464\n",
            "Epoch 31/80\n",
            "375/375 [==============================] - 10s 27ms/step - loss: 0.5453 - accuracy: 0.8458 - val_loss: 0.5277 - val_accuracy: 0.8570\n",
            "Epoch 32/80\n",
            "375/375 [==============================] - 8s 21ms/step - loss: 0.5394 - accuracy: 0.8486 - val_loss: 0.4982 - val_accuracy: 0.8622\n",
            "Epoch 33/80\n",
            "375/375 [==============================] - 10s 26ms/step - loss: 0.5407 - accuracy: 0.8503 - val_loss: 0.4979 - val_accuracy: 0.8621\n",
            "Epoch 34/80\n",
            "375/375 [==============================] - 9s 24ms/step - loss: 0.5463 - accuracy: 0.8448 - val_loss: 0.5418 - val_accuracy: 0.8505\n",
            "Epoch 35/80\n",
            "375/375 [==============================] - 10s 26ms/step - loss: 0.5495 - accuracy: 0.8470 - val_loss: 0.5120 - val_accuracy: 0.8595\n",
            "Epoch 36/80\n",
            "375/375 [==============================] - 10s 26ms/step - loss: 0.5487 - accuracy: 0.8471 - val_loss: 0.5061 - val_accuracy: 0.8594\n",
            "Epoch 37/80\n",
            "375/375 [==============================] - 10s 26ms/step - loss: 0.5437 - accuracy: 0.8472 - val_loss: 0.5404 - val_accuracy: 0.8489\n",
            "Epoch 38/80\n",
            "375/375 [==============================] - 9s 23ms/step - loss: 0.5394 - accuracy: 0.8497 - val_loss: 0.4991 - val_accuracy: 0.8608\n",
            "Epoch 39/80\n",
            "375/375 [==============================] - 10s 26ms/step - loss: 0.5397 - accuracy: 0.8503 - val_loss: 0.5013 - val_accuracy: 0.8624\n",
            "Epoch 40/80\n",
            "375/375 [==============================] - 10s 26ms/step - loss: 0.5325 - accuracy: 0.8509 - val_loss: 0.5009 - val_accuracy: 0.8593\n",
            "Epoch 41/80\n",
            "375/375 [==============================] - 8s 21ms/step - loss: 0.5383 - accuracy: 0.8501 - val_loss: 0.5447 - val_accuracy: 0.8451\n",
            "Epoch 42/80\n",
            "375/375 [==============================] - 10s 27ms/step - loss: 0.5393 - accuracy: 0.8488 - val_loss: 0.5193 - val_accuracy: 0.8583\n",
            "Epoch 43/80\n",
            "375/375 [==============================] - 9s 25ms/step - loss: 0.5422 - accuracy: 0.8478 - val_loss: 0.5069 - val_accuracy: 0.8586\n"
          ]
        }
      ]
    },
    {
      "cell_type": "code",
      "source": [
        "test_loss, test_accuracy = model.evaluate(X_test, y_test)\n",
        "print(f'Test accuracy: {test_accuracy:.4f}')"
      ],
      "metadata": {
        "colab": {
          "base_uri": "https://localhost:8080/"
        },
        "id": "PT06pQWPKt4_",
        "outputId": "839998bd-a8ee-4055-b3f1-a8dab6553631"
      },
      "execution_count": 13,
      "outputs": [
        {
          "output_type": "stream",
          "name": "stdout",
          "text": [
            "313/313 [==============================] - 1s 4ms/step - loss: 0.5228 - accuracy: 0.8516\n",
            "Test accuracy: 0.8516\n"
          ]
        }
      ]
    },
    {
      "cell_type": "markdown",
      "source": [
        "VARIANT 3"
      ],
      "metadata": {
        "id": "Uxr34P7hK1zx"
      }
    },
    {
      "cell_type": "code",
      "source": [
        "model = Sequential()\n",
        "\n",
        "model.add(Flatten(input_shape=(28, 28)))\n",
        "model.add(Dense(256, activation='relu'))\n",
        "model.add(Dropout(0.3))\n",
        "model.add(Dense(128, activation='relu'))\n",
        "model.add(Dropout(0.3))\n",
        "model.add(Dense(64, activation='relu'))\n",
        "model.add(Dropout(0.3))\n",
        "model.add(Dense(10, activation='softmax'))"
      ],
      "metadata": {
        "id": "GtIc-CI3K4dS"
      },
      "execution_count": 14,
      "outputs": []
    },
    {
      "cell_type": "code",
      "source": [
        "model.compile(optimizer=Adam(),\n",
        "              loss='categorical_crossentropy',\n",
        "              metrics=['accuracy'])"
      ],
      "metadata": {
        "id": "0HkDbH9mK7S0"
      },
      "execution_count": 15,
      "outputs": []
    },
    {
      "cell_type": "code",
      "source": [
        "early_stopping = EarlyStopping(monitor='val_loss', patience=5, restore_best_weights=True)\n",
        "\n",
        "history = model.fit(X_train, y_train,\n",
        "                    epochs=30,\n",
        "                    batch_size=64,\n",
        "                    validation_split=0.2,\n",
        "                    callbacks=[early_stopping])"
      ],
      "metadata": {
        "colab": {
          "base_uri": "https://localhost:8080/"
        },
        "id": "BtaCHXFTK-61",
        "outputId": "5337bec1-7bda-48e2-c400-4387ed0414d2"
      },
      "execution_count": 16,
      "outputs": [
        {
          "output_type": "stream",
          "name": "stdout",
          "text": [
            "Epoch 1/30\n",
            "750/750 [==============================] - 9s 11ms/step - loss: 0.7327 - accuracy: 0.7384 - val_loss: 0.4401 - val_accuracy: 0.8329\n",
            "Epoch 2/30\n",
            "750/750 [==============================] - 7s 10ms/step - loss: 0.4907 - accuracy: 0.8258 - val_loss: 0.4145 - val_accuracy: 0.8440\n",
            "Epoch 3/30\n",
            "750/750 [==============================] - 7s 9ms/step - loss: 0.4399 - accuracy: 0.8454 - val_loss: 0.3929 - val_accuracy: 0.8528\n",
            "Epoch 4/30\n",
            "750/750 [==============================] - 8s 11ms/step - loss: 0.4152 - accuracy: 0.8522 - val_loss: 0.3649 - val_accuracy: 0.8690\n",
            "Epoch 5/30\n",
            "750/750 [==============================] - 8s 11ms/step - loss: 0.3934 - accuracy: 0.8580 - val_loss: 0.3543 - val_accuracy: 0.8707\n",
            "Epoch 6/30\n",
            "750/750 [==============================] - 7s 9ms/step - loss: 0.3801 - accuracy: 0.8641 - val_loss: 0.3451 - val_accuracy: 0.8749\n",
            "Epoch 7/30\n",
            "750/750 [==============================] - 8s 11ms/step - loss: 0.3665 - accuracy: 0.8677 - val_loss: 0.3375 - val_accuracy: 0.8775\n",
            "Epoch 8/30\n",
            "750/750 [==============================] - 6s 8ms/step - loss: 0.3566 - accuracy: 0.8732 - val_loss: 0.3414 - val_accuracy: 0.8798\n",
            "Epoch 9/30\n",
            "750/750 [==============================] - 8s 11ms/step - loss: 0.3539 - accuracy: 0.8727 - val_loss: 0.3361 - val_accuracy: 0.8830\n",
            "Epoch 10/30\n",
            "750/750 [==============================] - 7s 9ms/step - loss: 0.3430 - accuracy: 0.8753 - val_loss: 0.3419 - val_accuracy: 0.8774\n",
            "Epoch 11/30\n",
            "750/750 [==============================] - 8s 11ms/step - loss: 0.3351 - accuracy: 0.8788 - val_loss: 0.3279 - val_accuracy: 0.8805\n",
            "Epoch 12/30\n",
            "750/750 [==============================] - 7s 9ms/step - loss: 0.3263 - accuracy: 0.8810 - val_loss: 0.3278 - val_accuracy: 0.8823\n",
            "Epoch 13/30\n",
            "750/750 [==============================] - 8s 10ms/step - loss: 0.3243 - accuracy: 0.8835 - val_loss: 0.3155 - val_accuracy: 0.8878\n",
            "Epoch 14/30\n",
            "750/750 [==============================] - 7s 9ms/step - loss: 0.3195 - accuracy: 0.8854 - val_loss: 0.3188 - val_accuracy: 0.8873\n",
            "Epoch 15/30\n",
            "750/750 [==============================] - 6s 8ms/step - loss: 0.3131 - accuracy: 0.8860 - val_loss: 0.3189 - val_accuracy: 0.8849\n",
            "Epoch 16/30\n",
            "750/750 [==============================] - 8s 11ms/step - loss: 0.3104 - accuracy: 0.8859 - val_loss: 0.3284 - val_accuracy: 0.8839\n",
            "Epoch 17/30\n",
            "750/750 [==============================] - 7s 9ms/step - loss: 0.3023 - accuracy: 0.8886 - val_loss: 0.3170 - val_accuracy: 0.8891\n",
            "Epoch 18/30\n",
            "750/750 [==============================] - 8s 10ms/step - loss: 0.3022 - accuracy: 0.8893 - val_loss: 0.3135 - val_accuracy: 0.8905\n",
            "Epoch 19/30\n",
            "750/750 [==============================] - 7s 9ms/step - loss: 0.2955 - accuracy: 0.8927 - val_loss: 0.3147 - val_accuracy: 0.8860\n",
            "Epoch 20/30\n",
            "750/750 [==============================] - 8s 10ms/step - loss: 0.2925 - accuracy: 0.8923 - val_loss: 0.3245 - val_accuracy: 0.8838\n",
            "Epoch 21/30\n",
            "750/750 [==============================] - 7s 9ms/step - loss: 0.2920 - accuracy: 0.8945 - val_loss: 0.3151 - val_accuracy: 0.8903\n",
            "Epoch 22/30\n",
            "750/750 [==============================] - 8s 11ms/step - loss: 0.2827 - accuracy: 0.8967 - val_loss: 0.3100 - val_accuracy: 0.8921\n",
            "Epoch 23/30\n",
            "750/750 [==============================] - 6s 8ms/step - loss: 0.2856 - accuracy: 0.8960 - val_loss: 0.3157 - val_accuracy: 0.8893\n",
            "Epoch 24/30\n",
            "750/750 [==============================] - 8s 10ms/step - loss: 0.2795 - accuracy: 0.8973 - val_loss: 0.3199 - val_accuracy: 0.8873\n",
            "Epoch 25/30\n",
            "750/750 [==============================] - 7s 10ms/step - loss: 0.2760 - accuracy: 0.8996 - val_loss: 0.3131 - val_accuracy: 0.8931\n",
            "Epoch 26/30\n",
            "750/750 [==============================] - 8s 10ms/step - loss: 0.2744 - accuracy: 0.9000 - val_loss: 0.3279 - val_accuracy: 0.8898\n",
            "Epoch 27/30\n",
            "750/750 [==============================] - 7s 10ms/step - loss: 0.2722 - accuracy: 0.8994 - val_loss: 0.3246 - val_accuracy: 0.8866\n"
          ]
        }
      ]
    },
    {
      "cell_type": "code",
      "source": [
        "test_loss, test_accuracy = model.evaluate(X_test, y_test)\n",
        "print(f'Test accuracy: {test_accuracy:.4f}')"
      ],
      "metadata": {
        "colab": {
          "base_uri": "https://localhost:8080/"
        },
        "id": "iBKmf4BaOfoZ",
        "outputId": "7da57db2-7717-4699-bd2e-d28e46dad798"
      },
      "execution_count": 17,
      "outputs": [
        {
          "output_type": "stream",
          "name": "stdout",
          "text": [
            "313/313 [==============================] - 1s 3ms/step - loss: 0.3326 - accuracy: 0.8828\n",
            "Test accuracy: 0.8828\n"
          ]
        }
      ]
    }
  ]
}