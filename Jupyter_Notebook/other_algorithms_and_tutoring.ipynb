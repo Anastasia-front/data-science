{
  "nbformat": 4,
  "nbformat_minor": 0,
  "metadata": {
    "colab": {
      "provenance": []
    },
    "kernelspec": {
      "name": "python3",
      "display_name": "Python 3"
    },
    "language_info": {
      "name": "python"
    }
  },
  "cells": [
    {
      "cell_type": "code",
      "source": [
        "# !unzip homework.zip\n",
        "\n",
        "import pandas as pd\n",
        "import os\n",
        "import numpy as np\n",
        "\n",
        "\n",
        "data_directory = 'data'\n",
        "\n",
        "X = []\n",
        "y = []\n",
        "\n",
        "def extract_features(data):\n",
        "    features = []\n",
        "    for axis in ['accelerometer_X', 'accelerometer_Y', 'accelerometer_Z']:\n",
        "        mean = np.mean(data[axis])\n",
        "        median = np.median(data[axis])\n",
        "        std_dev = np.std(data[axis])\n",
        "        max_val = np.max(data[axis])\n",
        "        min_val = np.min(data[axis])\n",
        "\n",
        "        features.extend([mean, median, std_dev, max_val, min_val])\n",
        "\n",
        "    return features\n",
        "\n",
        "for class_name in os.listdir(data_directory):\n",
        "    class_directory = os.path.join(data_directory, class_name)\n",
        "    if os.path.isdir(class_directory):\n",
        "        for file_name in os.listdir(class_directory):\n",
        "            if file_name.endswith('.csv'):\n",
        "                file_path = os.path.join(class_directory, file_name)\n",
        "                df = pd.read_csv(file_path)\n",
        "                features = extract_features(df)\n",
        "                X.append(features)\n",
        "                y.append(class_name)\n",
        "\n",
        "X = np.array(X)\n",
        "y = np.array(y)\n",
        "\n",
        "y_series = pd.Series(y, name='class')\n",
        "class_counts = y_series.value_counts()\n",
        "\n",
        "print(class_counts)"
      ],
      "metadata": {
        "id": "nTcpDGo0aDG8",
        "colab": {
          "base_uri": "https://localhost:8080/"
        },
        "outputId": "377576ba-fbb2-428d-a2f8-0968d7bb0d35"
      },
      "execution_count": 9,
      "outputs": [
        {
          "output_type": "stream",
          "name": "stdout",
          "text": [
            "class\n",
            "running    3408\n",
            "walking    1850\n",
            "idle       1039\n",
            "stairs      165\n",
            "Name: count, dtype: int64\n"
          ]
        }
      ]
    },
    {
      "cell_type": "code",
      "source": [
        "from sklearn.model_selection import train_test_split\n",
        "from sklearn.svm import SVC\n",
        "from sklearn.ensemble import RandomForestClassifier\n",
        "from sklearn.metrics import classification_report\n",
        "\n",
        "\n",
        "X_train, X_test, y_train, y_test = train_test_split(X, y, test_size=0.2, random_state=42)\n",
        "\n",
        "svm_model = SVC(kernel='linear')\n",
        "svm_model.fit(X_train, y_train)\n",
        "\n",
        "rf_model = RandomForestClassifier(n_estimators=100, random_state=42)\n",
        "rf_model.fit(X_train, y_train)\n",
        "\n",
        "svm_preds = svm_model.predict(X_test)\n",
        "rf_preds = rf_model.predict(X_test)\n",
        "\n",
        "print(\"Classification Report for SVM:\")\n",
        "print(classification_report(y_test, svm_preds))\n",
        "\n",
        "print(\"\\nClassification Report for Random Forest:\")\n",
        "print(classification_report(y_test, rf_preds))"
      ],
      "metadata": {
        "colab": {
          "base_uri": "https://localhost:8080/"
        },
        "id": "gf2-cEt2eNjk",
        "outputId": "aa33989f-dcc9-4c50-ed28-b5d2b6f3c20a"
      },
      "execution_count": 5,
      "outputs": [
        {
          "output_type": "stream",
          "name": "stdout",
          "text": [
            "Classification Report for SVM:\n",
            "              precision    recall  f1-score   support\n",
            "\n",
            "        idle       1.00      1.00      1.00       190\n",
            "     running       1.00      1.00      1.00       701\n",
            "      stairs       0.77      0.71      0.74        24\n",
            "     walking       0.98      0.99      0.98       378\n",
            "\n",
            "    accuracy                           0.99      1293\n",
            "   macro avg       0.94      0.92      0.93      1293\n",
            "weighted avg       0.99      0.99      0.99      1293\n",
            "\n",
            "\n",
            "Classification Report for Random Forest:\n",
            "              precision    recall  f1-score   support\n",
            "\n",
            "        idle       1.00      1.00      1.00       190\n",
            "     running       1.00      1.00      1.00       701\n",
            "      stairs       1.00      1.00      1.00        24\n",
            "     walking       1.00      1.00      1.00       378\n",
            "\n",
            "    accuracy                           1.00      1293\n",
            "   macro avg       1.00      1.00      1.00      1293\n",
            "weighted avg       1.00      1.00      1.00      1293\n",
            "\n"
          ]
        }
      ]
    }
  ]
}