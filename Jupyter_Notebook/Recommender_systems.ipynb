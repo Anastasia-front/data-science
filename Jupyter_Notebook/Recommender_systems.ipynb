{
  "nbformat": 4,
  "nbformat_minor": 0,
  "metadata": {
    "colab": {
      "provenance": []
    },
    "kernelspec": {
      "name": "python3",
      "display_name": "Python 3"
    },
    "language_info": {
      "name": "python"
    }
  },
  "cells": [
    {
      "cell_type": "code",
      "source": [
        "# !pip install surprise\n",
        "\n",
        "from surprise import Dataset, Reader, SVD, SVDpp, NMF\n",
        "from surprise.model_selection import cross_validate, GridSearchCV\n",
        "\n",
        "data = Dataset.load_builtin('ml-100k')\n",
        "\n",
        "algo = SVD()\n",
        "\n",
        "cross_validate(algo, data, measures=['RMSE', 'MAE'], cv=5, verbose = True)"
      ],
      "metadata": {
        "colab": {
          "base_uri": "https://localhost:8080/"
        },
        "id": "gf2-cEt2eNjk",
        "outputId": "c83441ca-76f4-4930-d7e7-429f22a9ca24"
      },
      "execution_count": 20,
      "outputs": [
        {
          "output_type": "stream",
          "name": "stdout",
          "text": [
            "Dataset ml-100k could not be found. Do you want to download it? [Y/n] Y\n",
            "Trying to download dataset from https://files.grouplens.org/datasets/movielens/ml-100k.zip...\n",
            "Done! Dataset ml-100k has been saved to /root/.surprise_data/ml-100k\n",
            "Evaluating RMSE, MAE of algorithm SVD on 5 split(s).\n",
            "\n",
            "                  Fold 1  Fold 2  Fold 3  Fold 4  Fold 5  Mean    Std     \n",
            "RMSE (testset)    0.9332  0.9375  0.9407  0.9397  0.9307  0.9364  0.0038  \n",
            "MAE (testset)     0.7366  0.7399  0.7400  0.7413  0.7341  0.7384  0.0027  \n",
            "Fit time          1.33    1.36    1.38    1.45    2.04    1.51    0.26    \n",
            "Test time         0.13    0.14    0.24    0.21    0.21    0.18    0.04    \n"
          ]
        },
        {
          "output_type": "execute_result",
          "data": {
            "text/plain": [
              "{'test_rmse': array([0.93322798, 0.93748631, 0.94067271, 0.93968669, 0.930677  ]),\n",
              " 'test_mae': array([0.73655717, 0.73992914, 0.74004125, 0.74130165, 0.7340736 ]),\n",
              " 'fit_time': (1.3322727680206299,\n",
              "  1.3637585639953613,\n",
              "  1.3818786144256592,\n",
              "  1.4546115398406982,\n",
              "  2.036928653717041),\n",
              " 'test_time': (0.12830567359924316,\n",
              "  0.1392195224761963,\n",
              "  0.23578166961669922,\n",
              "  0.21003413200378418,\n",
              "  0.2085270881652832)}"
            ]
          },
          "metadata": {},
          "execution_count": 20
        }
      ]
    },
    {
      "cell_type": "code",
      "source": [
        "param_grid_nmf = {\n",
        "    'n_factors': [10, 20],\n",
        "    'n_epochs': [20, 50],\n",
        "    'biased': [True, False]\n",
        "}\n",
        "gs_nmf = GridSearchCV(NMF, param_grid_nmf, measures=['rmse'], cv=3)\n",
        "gs_nmf.fit(data)\n",
        "\n",
        "\n",
        "print(\"Best parameters for NMF:\", gs_nmf.best_params['rmse'])\n",
        "print(\"Best RMSE for NMF:\", gs_nmf.best_score['rmse'])"
      ],
      "metadata": {
        "colab": {
          "base_uri": "https://localhost:8080/"
        },
        "id": "VIk7UkniigZ5",
        "outputId": "68285546-5be7-47e1-d704-072f7a8a3def"
      },
      "execution_count": 21,
      "outputs": [
        {
          "output_type": "stream",
          "name": "stdout",
          "text": [
            "Best parameters for NMF: {'n_factors': 10, 'n_epochs': 50, 'biased': True}\n",
            "Best RMSE for NMF: 0.9416183530891846\n"
          ]
        }
      ]
    }
  ]
}